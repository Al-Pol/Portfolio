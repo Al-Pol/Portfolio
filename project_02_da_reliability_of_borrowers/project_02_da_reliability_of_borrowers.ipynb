{
 "cells": [
  {
   "cell_type": "markdown",
   "id": "d85a3fbf",
   "metadata": {},
   "source": [
    "# **Исследование надежности заемщиков**"
   ]
  },
  {
   "cell_type": "markdown",
   "id": "e7ed2707",
   "metadata": {},
   "source": [
    "<font size = 4> **Описание проекта**\n",
    " \n",
    "Заказчик — кредитный отдел банка. Нужно разобраться, влияет ли семейное положение, уровень дохода, цель займа и количество детей клиента на факт погашения кредита в срок. Входные данные от банка — статистика о платёжеспособности клиентов. \n",
    "    \n",
    "Результаты исследования будут учтены при построении модели кредитного скоринга — специальной системы, которая оценивает способность потенциального заёмщика вернуть кредит банку."
   ]
  },
  {
   "cell_type": "markdown",
   "id": "c8e4ea3e",
   "metadata": {},
   "source": [
    "<font size = 4> **Цель проекта**\n",
    " \n",
    "Нужно ответить на вопросы:\n",
    "* Есть ли зависимость между количеством детей клиента и возвратом им кредита в срок?\n",
    "* Есть ли зависимость между семейным положением клиента и возвратом им кредита в срок?\n",
    "* Есть ли зависимость между уровнем дохода клиента и возвратом им кредита в срок?\n",
    "* Как разные цели кредита влияют на его возврат в срок?"
   ]
  },
  {
   "cell_type": "markdown",
   "id": "8a1df34d",
   "metadata": {},
   "source": [
    "<font size = 4> **План проекта**\n",
    "\n",
    "1.  Изучение данных  \n",
    "    1.1  Импортируем библиотеки  \n",
    "    1.2  Считываем данные из CSV-файла в датафрейм и сохраняем в переменные  \n",
    "    1.3  Выводим основную информацию о датафреймах методом info  \n",
    "2.  Предобработка данных  \n",
    "    2.1  Обработем аномальные значения  \n",
    "    2.2  Обработаем пропущенные значения  \n",
    "    2.3  Изменим типы данных   \n",
    "    2.4  Обработаем дубликаты  \n",
    "    2.5  Категоризация данных  \n",
    "3.  Исследование данных и ответы на вопросы:  \n",
    "    3.1  Есть ли зависимость между количеством детей и возвратом кредита в срок?  \n",
    "    3.2  Есть ли зависимость между семейным положением и возвратом кредита в срок?  \n",
    "    3.3  Есть ли зависимость между уровнем дохода и возвратом кредита в срок?  \n",
    "    3.4  Как разные цели кредита влияют на его возврат в срок?   \n",
    "4.  Итоговый вывод  "
   ]
  },
  {
   "cell_type": "markdown",
   "id": "6c47fddf",
   "metadata": {},
   "source": [
    "## Изучение данных"
   ]
  },
  {
   "cell_type": "markdown",
   "id": "e51b3993",
   "metadata": {},
   "source": [
    "### Импортируем библиотеки"
   ]
  },
  {
   "cell_type": "code",
   "execution_count": 1,
   "id": "6923a430",
   "metadata": {},
   "outputs": [],
   "source": [
    "# импорт библиотеки pandas\n",
    "import pandas as pd "
   ]
  },
  {
   "cell_type": "markdown",
   "id": "67c3dabe",
   "metadata": {},
   "source": [
    "### Считываем данные из CSV-файла в датафрейм и сохраняем в переменные"
   ]
  },
  {
   "cell_type": "code",
   "execution_count": 2,
   "id": "b571f2c0",
   "metadata": {},
   "outputs": [],
   "source": [
    "# чтение файла с данными и сохранение в data\n",
    "try:\n",
    "    data = pd.read_csv('d:/Data_science/Projects_jupiter/data/data.csv')\n",
    "except:\n",
    "    data = pd.read_csv('/datasets/data.csv')"
   ]
  },
  {
   "cell_type": "code",
   "execution_count": 3,
   "id": "d463c106",
   "metadata": {},
   "outputs": [
    {
     "data": {
      "text/html": [
       "<div>\n",
       "<style scoped>\n",
       "    .dataframe tbody tr th:only-of-type {\n",
       "        vertical-align: middle;\n",
       "    }\n",
       "\n",
       "    .dataframe tbody tr th {\n",
       "        vertical-align: top;\n",
       "    }\n",
       "\n",
       "    .dataframe thead th {\n",
       "        text-align: right;\n",
       "    }\n",
       "</style>\n",
       "<table border=\"1\" class=\"dataframe\">\n",
       "  <thead>\n",
       "    <tr style=\"text-align: right;\">\n",
       "      <th></th>\n",
       "      <th>children</th>\n",
       "      <th>days_employed</th>\n",
       "      <th>dob_years</th>\n",
       "      <th>education</th>\n",
       "      <th>education_id</th>\n",
       "      <th>family_status</th>\n",
       "      <th>family_status_id</th>\n",
       "      <th>gender</th>\n",
       "      <th>income_type</th>\n",
       "      <th>debt</th>\n",
       "      <th>total_income</th>\n",
       "      <th>purpose</th>\n",
       "    </tr>\n",
       "  </thead>\n",
       "  <tbody>\n",
       "    <tr>\n",
       "      <th>18832</th>\n",
       "      <td>2</td>\n",
       "      <td>-627.085747</td>\n",
       "      <td>28</td>\n",
       "      <td>среднее</td>\n",
       "      <td>1</td>\n",
       "      <td>гражданский брак</td>\n",
       "      <td>1</td>\n",
       "      <td>F</td>\n",
       "      <td>сотрудник</td>\n",
       "      <td>0</td>\n",
       "      <td>75700.220819</td>\n",
       "      <td>недвижимость</td>\n",
       "    </tr>\n",
       "    <tr>\n",
       "      <th>10622</th>\n",
       "      <td>0</td>\n",
       "      <td>385664.024835</td>\n",
       "      <td>67</td>\n",
       "      <td>среднее</td>\n",
       "      <td>1</td>\n",
       "      <td>женат / замужем</td>\n",
       "      <td>0</td>\n",
       "      <td>F</td>\n",
       "      <td>пенсионер</td>\n",
       "      <td>0</td>\n",
       "      <td>27776.117526</td>\n",
       "      <td>заняться образованием</td>\n",
       "    </tr>\n",
       "    <tr>\n",
       "      <th>2601</th>\n",
       "      <td>0</td>\n",
       "      <td>-879.422273</td>\n",
       "      <td>27</td>\n",
       "      <td>высшее</td>\n",
       "      <td>0</td>\n",
       "      <td>Не женат / не замужем</td>\n",
       "      <td>4</td>\n",
       "      <td>F</td>\n",
       "      <td>сотрудник</td>\n",
       "      <td>0</td>\n",
       "      <td>118850.789141</td>\n",
       "      <td>жилье</td>\n",
       "    </tr>\n",
       "    <tr>\n",
       "      <th>18477</th>\n",
       "      <td>0</td>\n",
       "      <td>-1573.326646</td>\n",
       "      <td>25</td>\n",
       "      <td>неоконченное высшее</td>\n",
       "      <td>2</td>\n",
       "      <td>Не женат / не замужем</td>\n",
       "      <td>4</td>\n",
       "      <td>F</td>\n",
       "      <td>компаньон</td>\n",
       "      <td>0</td>\n",
       "      <td>134120.398957</td>\n",
       "      <td>покупка коммерческой недвижимости</td>\n",
       "    </tr>\n",
       "    <tr>\n",
       "      <th>3050</th>\n",
       "      <td>2</td>\n",
       "      <td>-1705.181865</td>\n",
       "      <td>40</td>\n",
       "      <td>среднее</td>\n",
       "      <td>1</td>\n",
       "      <td>женат / замужем</td>\n",
       "      <td>0</td>\n",
       "      <td>F</td>\n",
       "      <td>сотрудник</td>\n",
       "      <td>1</td>\n",
       "      <td>83436.807198</td>\n",
       "      <td>получение высшего образования</td>\n",
       "    </tr>\n",
       "    <tr>\n",
       "      <th>17806</th>\n",
       "      <td>0</td>\n",
       "      <td>-498.706306</td>\n",
       "      <td>27</td>\n",
       "      <td>среднее</td>\n",
       "      <td>1</td>\n",
       "      <td>женат / замужем</td>\n",
       "      <td>0</td>\n",
       "      <td>M</td>\n",
       "      <td>сотрудник</td>\n",
       "      <td>1</td>\n",
       "      <td>157704.346803</td>\n",
       "      <td>ремонт жилью</td>\n",
       "    </tr>\n",
       "    <tr>\n",
       "      <th>12631</th>\n",
       "      <td>0</td>\n",
       "      <td>360640.205004</td>\n",
       "      <td>61</td>\n",
       "      <td>среднее</td>\n",
       "      <td>1</td>\n",
       "      <td>гражданский брак</td>\n",
       "      <td>1</td>\n",
       "      <td>M</td>\n",
       "      <td>пенсионер</td>\n",
       "      <td>0</td>\n",
       "      <td>229471.777989</td>\n",
       "      <td>свадьба</td>\n",
       "    </tr>\n",
       "    <tr>\n",
       "      <th>18529</th>\n",
       "      <td>0</td>\n",
       "      <td>-450.954299</td>\n",
       "      <td>25</td>\n",
       "      <td>высшее</td>\n",
       "      <td>0</td>\n",
       "      <td>Не женат / не замужем</td>\n",
       "      <td>4</td>\n",
       "      <td>M</td>\n",
       "      <td>компаньон</td>\n",
       "      <td>0</td>\n",
       "      <td>173665.181241</td>\n",
       "      <td>операции с недвижимостью</td>\n",
       "    </tr>\n",
       "    <tr>\n",
       "      <th>3040</th>\n",
       "      <td>0</td>\n",
       "      <td>NaN</td>\n",
       "      <td>49</td>\n",
       "      <td>среднее</td>\n",
       "      <td>1</td>\n",
       "      <td>гражданский брак</td>\n",
       "      <td>1</td>\n",
       "      <td>F</td>\n",
       "      <td>сотрудник</td>\n",
       "      <td>0</td>\n",
       "      <td>NaN</td>\n",
       "      <td>покупка коммерческой недвижимости</td>\n",
       "    </tr>\n",
       "    <tr>\n",
       "      <th>2035</th>\n",
       "      <td>1</td>\n",
       "      <td>-4821.651965</td>\n",
       "      <td>45</td>\n",
       "      <td>высшее</td>\n",
       "      <td>0</td>\n",
       "      <td>женат / замужем</td>\n",
       "      <td>0</td>\n",
       "      <td>F</td>\n",
       "      <td>госслужащий</td>\n",
       "      <td>0</td>\n",
       "      <td>181566.431683</td>\n",
       "      <td>покупка жилья для семьи</td>\n",
       "    </tr>\n",
       "  </tbody>\n",
       "</table>\n",
       "</div>"
      ],
      "text/plain": [
       "       children  days_employed  dob_years            education  education_id  \\\n",
       "18832         2    -627.085747         28              среднее             1   \n",
       "10622         0  385664.024835         67              среднее             1   \n",
       "2601          0    -879.422273         27               высшее             0   \n",
       "18477         0   -1573.326646         25  неоконченное высшее             2   \n",
       "3050          2   -1705.181865         40              среднее             1   \n",
       "17806         0    -498.706306         27              среднее             1   \n",
       "12631         0  360640.205004         61              среднее             1   \n",
       "18529         0    -450.954299         25               высшее             0   \n",
       "3040          0            NaN         49              среднее             1   \n",
       "2035          1   -4821.651965         45               высшее             0   \n",
       "\n",
       "               family_status  family_status_id gender  income_type  debt  \\\n",
       "18832       гражданский брак                 1      F    сотрудник     0   \n",
       "10622        женат / замужем                 0      F    пенсионер     0   \n",
       "2601   Не женат / не замужем                 4      F    сотрудник     0   \n",
       "18477  Не женат / не замужем                 4      F    компаньон     0   \n",
       "3050         женат / замужем                 0      F    сотрудник     1   \n",
       "17806        женат / замужем                 0      M    сотрудник     1   \n",
       "12631       гражданский брак                 1      M    пенсионер     0   \n",
       "18529  Не женат / не замужем                 4      M    компаньон     0   \n",
       "3040        гражданский брак                 1      F    сотрудник     0   \n",
       "2035         женат / замужем                 0      F  госслужащий     0   \n",
       "\n",
       "        total_income                            purpose  \n",
       "18832   75700.220819                       недвижимость  \n",
       "10622   27776.117526              заняться образованием  \n",
       "2601   118850.789141                              жилье  \n",
       "18477  134120.398957  покупка коммерческой недвижимости  \n",
       "3050    83436.807198      получение высшего образования  \n",
       "17806  157704.346803                       ремонт жилью  \n",
       "12631  229471.777989                            свадьба  \n",
       "18529  173665.181241           операции с недвижимостью  \n",
       "3040             NaN  покупка коммерческой недвижимости  \n",
       "2035   181566.431683            покупка жилья для семьи  "
      ]
     },
     "execution_count": 3,
     "metadata": {},
     "output_type": "execute_result"
    }
   ],
   "source": [
    "# получение случайных 10 строк таблицы\n",
    "data.sample(10)"
   ]
  },
  {
   "cell_type": "markdown",
   "id": "d68f5794",
   "metadata": {},
   "source": [
    "**Описание данных:**\n",
    "* `children` — количество детей в семье\n",
    "* `days_employed` — общий трудовой стаж в днях\n",
    "* `dob_years` — возраст клиента в годах\n",
    "* `education` — уровень образования клиента\n",
    "* `education_id` — идентификатор уровня образования\n",
    "* `family_status` — семейное положение\n",
    "* `family_status_id` — идентификатор семейного положения\n",
    "* `gender` — пол клиента\n",
    "* `income_type` — тип занятости\n",
    "* `debt` — имел ли задолженность по возврату кредитов\n",
    "* `total_income` — ежемесячный доход\n",
    "* `purpose` — цель получения кредита"
   ]
  },
  {
   "cell_type": "markdown",
   "id": "c8057f33",
   "metadata": {},
   "source": [
    "### Выводим основную информацию о датафреймах методом `info` "
   ]
  },
  {
   "cell_type": "code",
   "execution_count": 4,
   "id": "83dba5cf",
   "metadata": {
    "scrolled": true
   },
   "outputs": [
    {
     "name": "stdout",
     "output_type": "stream",
     "text": [
      "<class 'pandas.core.frame.DataFrame'>\n",
      "RangeIndex: 21525 entries, 0 to 21524\n",
      "Data columns (total 12 columns):\n",
      " #   Column            Non-Null Count  Dtype  \n",
      "---  ------            --------------  -----  \n",
      " 0   children          21525 non-null  int64  \n",
      " 1   days_employed     19351 non-null  float64\n",
      " 2   dob_years         21525 non-null  int64  \n",
      " 3   education         21525 non-null  object \n",
      " 4   education_id      21525 non-null  int64  \n",
      " 5   family_status     21525 non-null  object \n",
      " 6   family_status_id  21525 non-null  int64  \n",
      " 7   gender            21525 non-null  object \n",
      " 8   income_type       21525 non-null  object \n",
      " 9   debt              21525 non-null  int64  \n",
      " 10  total_income      19351 non-null  float64\n",
      " 11  purpose           21525 non-null  object \n",
      "dtypes: float64(2), int64(5), object(5)\n",
      "memory usage: 2.0+ MB\n"
     ]
    }
   ],
   "source": [
    "data.info()"
   ]
  },
  {
   "cell_type": "markdown",
   "id": "51b807e2",
   "metadata": {},
   "source": [
    "**Вывод:**  \n",
    "\n",
    "Итак, в таблице 11 признаков. Тип данных во всех столбцах различается.  \n",
    "Количество значений в столбцах различается. Значит, в данных есть пропущенные значения."
   ]
  },
  {
   "cell_type": "markdown",
   "id": "34fdf2d2",
   "metadata": {},
   "source": [
    "## Предобработка данных"
   ]
  },
  {
   "cell_type": "markdown",
   "id": "a3eb9c6d",
   "metadata": {},
   "source": [
    "### Обработем аномальные значения\n",
    "В данных могут встречаться артефакты (аномалии) — значения, которые не отражают действительность и появились по какой-то ошибке. "
   ]
  },
  {
   "cell_type": "markdown",
   "id": "8372d4dd",
   "metadata": {},
   "source": [
    "#### Рассмотрим столбец `days_employed`\n",
    "\n",
    "Отрицательное количество дней трудового стажа в столбце `days_employed` явно аномальное. Заменим все отрицательные значения положительными с помощью метода `abs()`."
   ]
  },
  {
   "cell_type": "code",
   "execution_count": 5,
   "id": "0e934368",
   "metadata": {},
   "outputs": [],
   "source": [
    "# Замена отрицательных значениё положительными\n",
    "data['days_employed'] = data['days_employed'].abs()"
   ]
  },
  {
   "cell_type": "markdown",
   "id": "cc448e8a",
   "metadata": {},
   "source": [
    "Рассмотрим для каждого типа занятости медианное значение трудового стажа `days_employed` в днях."
   ]
  },
  {
   "cell_type": "code",
   "execution_count": 6,
   "id": "9cbe09f1",
   "metadata": {
    "scrolled": true
   },
   "outputs": [
    {
     "data": {
      "text/plain": [
       "income_type\n",
       "безработный        366413.652744\n",
       "в декрете            3296.759962\n",
       "госслужащий          2689.368353\n",
       "компаньон            1547.382223\n",
       "пенсионер          365213.306266\n",
       "предприниматель       520.848083\n",
       "сотрудник            1574.202821\n",
       "студент               578.751554\n",
       "Name: days_employed, dtype: float64"
      ]
     },
     "execution_count": 6,
     "metadata": {},
     "output_type": "execute_result"
    }
   ],
   "source": [
    "# Групировка данных по столбцу \"income_type\"\n",
    "data.groupby('income_type')['days_employed'].agg('median')"
   ]
  },
  {
   "cell_type": "markdown",
   "id": "ed669a45",
   "metadata": {},
   "source": [
    "**Замечание:** \n",
    "У двух типов (безработные и пенсионеры) аномально большие значения. Для нашего исследования этот столбец не понадобится, поэтому оставим эти значения."
   ]
  },
  {
   "cell_type": "markdown",
   "id": "dc8bb41f",
   "metadata": {},
   "source": [
    "#### Рассмотрим столбец `children`"
   ]
  },
  {
   "cell_type": "code",
   "execution_count": 7,
   "id": "df18a730",
   "metadata": {},
   "outputs": [
    {
     "name": "stdout",
     "output_type": "stream",
     "text": [
      "Уникальные значения столбца \"children\": [1, 0, 3, 2, -1, 4, 20, 5]\n",
      "Количество строк с аномальным количеством детей: 123\n"
     ]
    }
   ],
   "source": [
    "# Вывод уникальных значений\n",
    "print('Уникальные значения столбца \"children\":', list(data['children'].unique()))\n",
    "# Подсчёт строк с аномальными значениями \"-1\" и \"20\"\n",
    "print('Количество строк с аномальным количеством детей:', len(data[(data['children'] == -1) | (data['children'] == 20)]))"
   ]
  },
  {
   "cell_type": "markdown",
   "id": "91c0a1fd",
   "metadata": {},
   "source": [
    "**Замечание:** В столбце `children` есть два аномальных значения \"-1\" и \"20\". Всего в таблице 123 такие строки, что не очень много, поэтому удалим эти данные."
   ]
  },
  {
   "cell_type": "code",
   "execution_count": 8,
   "id": "341beac7",
   "metadata": {
    "scrolled": true
   },
   "outputs": [
    {
     "name": "stdout",
     "output_type": "stream",
     "text": [
      "Уникальные значения столбца \"children\": [1, 0, 3, 2, 4, 5]\n"
     ]
    }
   ],
   "source": [
    "# Удаление аномальных данных\n",
    "data = data[(data['children'] != -1) & (data['children'] != 20)]\n",
    "print('Уникальные значения столбца \"children\":', list(data['children'].unique()))"
   ]
  },
  {
   "cell_type": "markdown",
   "id": "5a1522d7",
   "metadata": {},
   "source": [
    "### Обработаем пропущенные значения"
   ]
  },
  {
   "cell_type": "code",
   "execution_count": 9,
   "id": "73f00e90",
   "metadata": {},
   "outputs": [
    {
     "data": {
      "text/plain": [
       "children               0\n",
       "days_employed       2162\n",
       "dob_years              0\n",
       "education              0\n",
       "education_id           0\n",
       "family_status          0\n",
       "family_status_id       0\n",
       "gender                 0\n",
       "income_type            0\n",
       "debt                   0\n",
       "total_income        2162\n",
       "purpose                0\n",
       "dtype: int64"
      ]
     },
     "execution_count": 9,
     "metadata": {},
     "output_type": "execute_result"
    }
   ],
   "source": [
    "# Вывод количества пропущенных значений\n",
    "data.isna().sum()"
   ]
  },
  {
   "cell_type": "markdown",
   "id": "88eae60c",
   "metadata": {},
   "source": [
    "**Замечание:** В столбцах `days_employed` и `total_income` есть пропущенные значения. Для заполнения этих значений лучше попытаться выяснить информацию у заказчика.\n",
    "\n",
    "Столбец `total_income` — хранит данные о доходах. На сумму дохода сильнее всего влияет тип занятости. В рамках задачи исследования, заполнить пропуски в этом столбце можно медианным значением по каждому типу из столбца `income_type`. Например, у человека с типом занятости `сотрудник` пропуск в столбце `total_income` должен быть заполнен медианным доходом среди всех записей с тем же типом.\n",
    "\n",
    "Для нашего исследование столбец `days_employed` не важен, поэтому, для удобства, заполним пропуски в нём по такому же принципу (медианой)."
   ]
  },
  {
   "cell_type": "code",
   "execution_count": 10,
   "id": "30e84666",
   "metadata": {
    "scrolled": true
   },
   "outputs": [
    {
     "data": {
      "text/plain": [
       "children            0\n",
       "days_employed       0\n",
       "dob_years           0\n",
       "education           0\n",
       "education_id        0\n",
       "family_status       0\n",
       "family_status_id    0\n",
       "gender              0\n",
       "income_type         0\n",
       "debt                0\n",
       "total_income        0\n",
       "purpose             0\n",
       "dtype: int64"
      ]
     },
     "execution_count": 10,
     "metadata": {},
     "output_type": "execute_result"
    }
   ],
   "source": [
    "# Заполнение пропущенных значений столбца \"total_income\"\n",
    "for t in data['income_type'].unique():\n",
    "    data.loc[(data['income_type'] == t) & (data['total_income'].isna()), 'total_income'] = \\\n",
    "    data.loc[(data['income_type'] == t), 'total_income'].median()\n",
    "# Заполнение пропущенных значений столбца \"days_employed\"\n",
    "for t in data['income_type'].unique():\n",
    "    data.loc[(data['income_type'] == t) & (data['days_employed'].isna()), 'days_employed'] = \\\n",
    "    data.loc[(data['income_type'] == t), 'days_employed'].median()\n",
    "# Вывод количества пропущенных значений \n",
    "data.isna().sum()"
   ]
  },
  {
   "cell_type": "markdown",
   "id": "0844d5f6",
   "metadata": {},
   "source": [
    "### Изменим тип данных в столбцах `total_income` и \t`days_employed`.\n",
    "Для удобства работы избавимся от дробных значений в столбцах."
   ]
  },
  {
   "cell_type": "code",
   "execution_count": 11,
   "id": "9c905e08",
   "metadata": {},
   "outputs": [],
   "source": [
    "# Замена вещественного типа данных на целочисленный\n",
    "data['total_income'] = data['total_income'].astype(int)\n",
    "data['days_employed'] = data['total_income'].astype(int)"
   ]
  },
  {
   "cell_type": "markdown",
   "id": "5d886836",
   "metadata": {},
   "source": [
    "### Обработаем дубликаты"
   ]
  },
  {
   "cell_type": "markdown",
   "id": "620c3e27",
   "metadata": {},
   "source": [
    "#### Обработаем неявные дубликаты\n",
    "Рассмотрим колонку `education`. Здесь есть одни и те же значения, но записанные по-разному: с использованием заглавных и строчных букв. Приведём их к нижнему регистру."
   ]
  },
  {
   "cell_type": "code",
   "execution_count": 12,
   "id": "b86f1aa8",
   "metadata": {},
   "outputs": [
    {
     "name": "stdout",
     "output_type": "stream",
     "text": [
      "['высшее' 'среднее' 'неоконченное высшее' 'начальное' 'ученая степень']\n"
     ]
    }
   ],
   "source": [
    "# Перевод значений в нижний регистр\n",
    "data['education'] = data['education'].str.lower()\n",
    "# Вывод уникальных значений\n",
    "print(data['education'].unique())"
   ]
  },
  {
   "cell_type": "markdown",
   "id": "f161fa81",
   "metadata": {},
   "source": [
    "#### Обработаем явные дубликаты"
   ]
  },
  {
   "cell_type": "code",
   "execution_count": 13,
   "id": "04092f34",
   "metadata": {},
   "outputs": [
    {
     "name": "stdout",
     "output_type": "stream",
     "text": [
      "Было дубликатов: 72\n",
      "Стало дубликатов: 0\n"
     ]
    }
   ],
   "source": [
    "# Вывод количества дубликатов\n",
    "print('Было дубликатов:', data.duplicated().sum())\n",
    "# Удаление дубликатов\n",
    "data = data.drop_duplicates()\n",
    "# Вывод количества дубликатов\n",
    "print('Стало дубликатов:', data.duplicated().sum())"
   ]
  },
  {
   "cell_type": "markdown",
   "id": "ced263e5",
   "metadata": {},
   "source": [
    "### Категоризация данных"
   ]
  },
  {
   "cell_type": "markdown",
   "id": "de3fd339",
   "metadata": {},
   "source": [
    "#### Создадим столбец `total_income_category`, на основании диапазонов значений столбца `total_income`, c категориями:\n",
    "\n",
    "* `А`- 1000001 и выше,  \n",
    "* `B`- 200001–1000000,  \n",
    "* `C`- 50001–200000,  \n",
    "* `D`- 30001–50000,  \n",
    "* `E`- 0–30000.  \n",
    "\n",
    "Например, кредитополучателю с доходом 25000 нужно назначить категорию `'E'`, а клиенту, получающему 235000, — `'B'`. "
   ]
  },
  {
   "cell_type": "code",
   "execution_count": 14,
   "id": "1808d37c",
   "metadata": {},
   "outputs": [],
   "source": [
    "# Создание функции для определения категории клиента по сумме его общего дохода \n",
    "def categorize_income(income):\n",
    "    try:\n",
    "        if 0 <= income <= 30000:\n",
    "            return 'E'\n",
    "        elif 30001 <= income <= 50000:\n",
    "            return 'D'\n",
    "        elif 50001 <= income <= 200000:\n",
    "            return 'C'\n",
    "        elif 200001 <= income <= 1000000:\n",
    "            return 'B'\n",
    "        elif income >= 1000001:\n",
    "            return 'A'\n",
    "    except:\n",
    "        pass"
   ]
  },
  {
   "cell_type": "code",
   "execution_count": 15,
   "id": "83db4dc7",
   "metadata": {},
   "outputs": [],
   "source": [
    "# Создание столбца с категориями клиента по сумме его общего дохода\n",
    "data['total_income_category'] = data['total_income'].apply(categorize_income)"
   ]
  },
  {
   "cell_type": "markdown",
   "id": "32ca771b",
   "metadata": {},
   "source": [
    "#### Создадим столбец `purpose_category`, на основании данных из столбца `purpose`, c категориями:\n",
    "\n",
    "- `'операции с автомобилем'`,\n",
    "- `'операции с недвижимостью'`,\n",
    "- `'проведение свадьбы'`,\n",
    "- `'получение образования'`.\n",
    "\n",
    "Например, если в столбце `purpose` находится подстрока `'на покупку автомобиля'`, то в столбце `purpose_category` должна появиться строка `'операции с автомобилем'`."
   ]
  },
  {
   "cell_type": "code",
   "execution_count": 16,
   "id": "ffdd7a79",
   "metadata": {},
   "outputs": [
    {
     "data": {
      "text/plain": [
       "array(['покупка жилья', 'приобретение автомобиля',\n",
       "       'дополнительное образование', 'сыграть свадьбу',\n",
       "       'операции с жильем', 'образование', 'на проведение свадьбы',\n",
       "       'покупка жилья для семьи', 'покупка недвижимости',\n",
       "       'покупка коммерческой недвижимости', 'покупка жилой недвижимости',\n",
       "       'строительство собственной недвижимости', 'недвижимость',\n",
       "       'строительство недвижимости', 'на покупку подержанного автомобиля',\n",
       "       'на покупку своего автомобиля',\n",
       "       'операции с коммерческой недвижимостью',\n",
       "       'строительство жилой недвижимости', 'жилье',\n",
       "       'операции со своей недвижимостью', 'автомобили',\n",
       "       'заняться образованием', 'сделка с подержанным автомобилем',\n",
       "       'получение образования', 'автомобиль', 'свадьба',\n",
       "       'получение дополнительного образования', 'покупка своего жилья',\n",
       "       'операции с недвижимостью', 'получение высшего образования',\n",
       "       'свой автомобиль', 'сделка с автомобилем',\n",
       "       'профильное образование', 'высшее образование',\n",
       "       'покупка жилья для сдачи', 'на покупку автомобиля', 'ремонт жилью',\n",
       "       'заняться высшим образованием'], dtype=object)"
      ]
     },
     "execution_count": 16,
     "metadata": {},
     "output_type": "execute_result"
    }
   ],
   "source": [
    "# Вывод уникальных значений столбца \"purpose\"\n",
    "data['purpose'].unique()"
   ]
  },
  {
   "cell_type": "code",
   "execution_count": 17,
   "id": "9c82045f",
   "metadata": {},
   "outputs": [],
   "source": [
    "# Создание функции для определения категории целей взятия кредита\n",
    "def categorize_purpose(row):\n",
    "    try:\n",
    "        if 'автом' in row:\n",
    "            return 'операции с автомобилем'\n",
    "        elif 'жил' in row or 'недвиж' in row:\n",
    "            return 'операции с недвижимостью'\n",
    "        elif 'свад' in row:\n",
    "            return 'проведение свадьбы'\n",
    "        elif 'образов' in row:\n",
    "            return 'получение образования'\n",
    "    except:\n",
    "        return 'нет категории'"
   ]
  },
  {
   "cell_type": "code",
   "execution_count": 18,
   "id": "90587d6f",
   "metadata": {},
   "outputs": [],
   "source": [
    "# Создание столбца с категориями целей взятия кредита \n",
    "data['purpose_category'] = data['purpose'].apply(categorize_purpose)"
   ]
  },
  {
   "cell_type": "markdown",
   "id": "4a4f798b",
   "metadata": {},
   "source": [
    "**Вывод:**  \n",
    "\n",
    "Мы обработали аномальные значения в столбцах `daya_employed` и `children`, некоторые из которых удалили, и изменили типы данных в столбце `total_income`.  \n",
    "Пропущенные значения в столбцах `total_income` и `days_employed` заменили \"медианами\".  \n",
    "Также мы обработали неявные дубликаты и удалили явные.  \n",
    "В конце мы создали два категориальных столбца `total_income_category` и `purpose_category`.  \n",
    "\n",
    "**Так как в наших данных довольно много пропусков (около 10 %) и результаты исследования будут учитываться при построении модели кредитного скоринга, то следует заметить, что следует более внимательно отнестись к природе появления пропусков в данных, а также способу их заполнения.**"
   ]
  },
  {
   "cell_type": "markdown",
   "id": "bb306d01",
   "metadata": {},
   "source": [
    "**Возможные причины появления пропусков в исходных данных:**\n",
    "* Пропуск в данных может не являться пропуском как таковым. Это может быть нулевое значение (например, ноль дней стажа, если человек еще не работал официально). \n",
    "* Неуказанные данные не предоставлены пользователем / заявителем и т.д.\n",
    "* Причиной появления пропусков может быть сбой.\n",
    "\n",
    "В данном проекте в исходных данных были пропуски в двух столбцах `days_employed` и `total_income`. Эти данные количественные. Мы считаем что пропуски возникли вследствие человеческого фактора. Люди часто не охотно раскрывают данные по своему доходу (здесь это столбец `total_income`). Тоже самое может относиьтся и к столбцу `days_employed` (опыт работы в днях). Возможно, также, что эти данные были не обязательны к заполнению или же утеряны в процессе заполнения.\n",
    "\n",
    "В количественных переменных возможны большие разбросы данных (могут быть выбросы, т.е. слишком большие или маленькие значения). Например одно значение может сильно выбиваться из всего датасета и сильно влиять на среднее значение. А вот на медиану это влияние будет заметно меньше. Следовательно заполнение медианой пропущенных количественных значений будет более обьективным, чем, например, средним значением.\n",
    "\n",
    "Однако, всё же, при заполнении медианой возможно сильное искажение реального дохода клиента. Эта ситуация скорее всего повлияет на принятие решения о выдаче ему кредита. Поэтому нужно постараться выяснить его реальный доход, или, возможно, исключить эти данные при работе над построением модели кредитного скоринга.\n"
   ]
  },
  {
   "cell_type": "markdown",
   "id": "f171b8f4",
   "metadata": {},
   "source": [
    "## Исследование данных"
   ]
  },
  {
   "cell_type": "markdown",
   "id": "a4d0b90a",
   "metadata": {},
   "source": [
    "### Есть ли зависимость между количеством детей и возвратом кредита в срок?"
   ]
  },
  {
   "cell_type": "code",
   "execution_count": 19,
   "id": "1bae3bf5",
   "metadata": {},
   "outputs": [
    {
     "data": {
      "text/html": [
       "<div>\n",
       "<style scoped>\n",
       "    .dataframe tbody tr th:only-of-type {\n",
       "        vertical-align: middle;\n",
       "    }\n",
       "\n",
       "    .dataframe tbody tr th {\n",
       "        vertical-align: top;\n",
       "    }\n",
       "\n",
       "    .dataframe thead th {\n",
       "        text-align: right;\n",
       "    }\n",
       "</style>\n",
       "<table border=\"1\" class=\"dataframe\">\n",
       "  <thead>\n",
       "    <tr style=\"text-align: right;\">\n",
       "      <th></th>\n",
       "      <th>mean</th>\n",
       "      <th>count</th>\n",
       "    </tr>\n",
       "    <tr>\n",
       "      <th>children</th>\n",
       "      <th></th>\n",
       "      <th></th>\n",
       "    </tr>\n",
       "  </thead>\n",
       "  <tbody>\n",
       "    <tr>\n",
       "      <th>0</th>\n",
       "      <td>0.075444</td>\n",
       "      <td>14090</td>\n",
       "    </tr>\n",
       "    <tr>\n",
       "      <th>1</th>\n",
       "      <td>0.092346</td>\n",
       "      <td>4808</td>\n",
       "    </tr>\n",
       "    <tr>\n",
       "      <th>2</th>\n",
       "      <td>0.094542</td>\n",
       "      <td>2052</td>\n",
       "    </tr>\n",
       "    <tr>\n",
       "      <th>3</th>\n",
       "      <td>0.081818</td>\n",
       "      <td>330</td>\n",
       "    </tr>\n",
       "    <tr>\n",
       "      <th>4</th>\n",
       "      <td>0.097561</td>\n",
       "      <td>41</td>\n",
       "    </tr>\n",
       "    <tr>\n",
       "      <th>5</th>\n",
       "      <td>0.000000</td>\n",
       "      <td>9</td>\n",
       "    </tr>\n",
       "  </tbody>\n",
       "</table>\n",
       "</div>"
      ],
      "text/plain": [
       "              mean  count\n",
       "children                 \n",
       "0         0.075444  14090\n",
       "1         0.092346   4808\n",
       "2         0.094542   2052\n",
       "3         0.081818    330\n",
       "4         0.097561     41\n",
       "5         0.000000      9"
      ]
     },
     "metadata": {},
     "output_type": "display_data"
    },
    {
     "data": {
      "image/png": "[encoded data removed]",
      "text/plain": [
       "<Figure size 640x480 with 1 Axes>"
      ]
     },
     "metadata": {},
     "output_type": "display_data"
    }
   ],
   "source": [
    "# Группировка по количеству детей, вывод доли должников и общего числа клиентов в категории\n",
    "display(data.groupby('children')['debt'].agg(['mean','count']))\n",
    "# Построение графика на основе сгруппированных данных\n",
    "(data.groupby('children')['debt'].agg('mean')\n",
    "                                 .plot.bar(alpha=0.7, rot=0, xlabel='Количество детей', ylabel='Доля должников')\n",
    "                                 .set_title('Доля должников в зависимости \\n от количества детей клиета'));\n"
   ]
  },
  {
   "cell_type": "markdown",
   "id": "15be36a8",
   "metadata": {},
   "source": [
    "**Вывод:**  \n",
    "\n",
    "Для ответа на этот вопрос мы сгрупировали данные из столбца `debt` (здесь указано является ли человек должником) по количеству детей заемщика. В стобце `mean` мы видим процент должников. В столбце `count` общее количество людей относящихся к данной категории. \n",
    "\n",
    "В сводной таблице видно что количество информации по категориям: 3,4,5 существенно меньше чем о людях из первых трех категорий. Для ответа на поставленный вопрос будем анализировать первые три группы (0,1,2).\n",
    "Для анализа и наглядности мы построили столбчатый график.\n",
    "На графике видно что процент должников в группе растет с количеством детей в семье. \n",
    "\n",
    "**Значит зависимость между количеством детей и возвратом кредита в срок существует.**"
   ]
  },
  {
   "cell_type": "markdown",
   "id": "037ce871",
   "metadata": {},
   "source": [
    "### Есть ли зависимость между семейным положением и возвратом кредита в срок?"
   ]
  },
  {
   "cell_type": "code",
   "execution_count": 20,
   "id": "0bf5c9d4",
   "metadata": {},
   "outputs": [
    {
     "data": {
      "text/html": [
       "<div>\n",
       "<style scoped>\n",
       "    .dataframe tbody tr th:only-of-type {\n",
       "        vertical-align: middle;\n",
       "    }\n",
       "\n",
       "    .dataframe tbody tr th {\n",
       "        vertical-align: top;\n",
       "    }\n",
       "\n",
       "    .dataframe thead th {\n",
       "        text-align: right;\n",
       "    }\n",
       "</style>\n",
       "<table border=\"1\" class=\"dataframe\">\n",
       "  <thead>\n",
       "    <tr style=\"text-align: right;\">\n",
       "      <th></th>\n",
       "      <th>mean</th>\n",
       "      <th>count</th>\n",
       "    </tr>\n",
       "    <tr>\n",
       "      <th>family_status</th>\n",
       "      <th></th>\n",
       "      <th></th>\n",
       "    </tr>\n",
       "  </thead>\n",
       "  <tbody>\n",
       "    <tr>\n",
       "      <th>Не женат / не замужем</th>\n",
       "      <td>0.097639</td>\n",
       "      <td>2796</td>\n",
       "    </tr>\n",
       "    <tr>\n",
       "      <th>в разводе</th>\n",
       "      <td>0.070648</td>\n",
       "      <td>1189</td>\n",
       "    </tr>\n",
       "    <tr>\n",
       "      <th>вдовец / вдова</th>\n",
       "      <td>0.066246</td>\n",
       "      <td>951</td>\n",
       "    </tr>\n",
       "    <tr>\n",
       "      <th>гражданский брак</th>\n",
       "      <td>0.093130</td>\n",
       "      <td>4134</td>\n",
       "    </tr>\n",
       "    <tr>\n",
       "      <th>женат / замужем</th>\n",
       "      <td>0.075612</td>\n",
       "      <td>12260</td>\n",
       "    </tr>\n",
       "  </tbody>\n",
       "</table>\n",
       "</div>"
      ],
      "text/plain": [
       "                           mean  count\n",
       "family_status                         \n",
       "Не женат / не замужем  0.097639   2796\n",
       "в разводе              0.070648   1189\n",
       "вдовец / вдова         0.066246    951\n",
       "гражданский брак       0.093130   4134\n",
       "женат / замужем        0.075612  12260"
      ]
     },
     "metadata": {},
     "output_type": "display_data"
    },
    {
     "data": {
      "image/png": "[encoded data removed]",
      "text/plain": [
       "<Figure size 640x480 with 1 Axes>"
      ]
     },
     "metadata": {},
     "output_type": "display_data"
    }
   ],
   "source": [
    "# Группировка по семейному положению, вывод доли должников и общего числа клиентов в категории\n",
    "display(data.groupby('family_status')['debt'].agg(['mean','count']))\n",
    "# Построение графика на основе сгруппированных данных\n",
    "(data.groupby('family_status')['debt'].agg('mean')\n",
    "                                      .plot.bar(alpha=0.7, rot=45, xlabel='Семейное положение', ylabel='Доля должников')\n",
    "                                      .set_title('Доля должников в зависимости \\n от семейного положения клиента'));\n"
   ]
  },
  {
   "cell_type": "markdown",
   "id": "57ce813f",
   "metadata": {},
   "source": [
    "**Вывод:**\n",
    "\n",
    "Для ответа на этот вопрос мы сгрупировали данные из столбца `debt` (здесь указано является ли человек должником) по семейному положению заемщика. В стобце `mean` мы видим процент должников. В столбце `count` общее количество людей относящихся к данной категории.\n",
    "\n",
    "Для анализа и наглядности мы построили столбчатый график.\n",
    "На графике видно, что процент должников заметно ниже в категориях: \"в разводе\", \"вдовец/вдова\" и \"женат/замужем\". В остальных категориях \"Не женат/ не замужем\" и \"гражданский брак\" процент должников выше. Заметим также, что процент должников среди людей, когда-либо закреплявших свой брак юридически ниже, чем среди людей никогда не закреплявших отношения. \n",
    "\n",
    "**Следовательно существует зависимость между семейным положением и возвратом кредита в срок.**"
   ]
  },
  {
   "cell_type": "markdown",
   "id": "2c1d7126",
   "metadata": {},
   "source": [
    "### Есть ли зависимость между уровнем дохода и возвратом кредита в срок?\n",
    "\n",
    "Напомним разбивку на категории по диапазону значений общего дохода:   \n",
    "* `А`- 1000001 и выше,  \n",
    "* `B`- 200001–1000000,  \n",
    "* `C`- 50001–200000,  \n",
    "* `D`- 30001–50000,  \n",
    "* `E`- 0–30000.  "
   ]
  },
  {
   "cell_type": "code",
   "execution_count": 21,
   "id": "c3878677",
   "metadata": {},
   "outputs": [
    {
     "data": {
      "text/html": [
       "<div>\n",
       "<style scoped>\n",
       "    .dataframe tbody tr th:only-of-type {\n",
       "        vertical-align: middle;\n",
       "    }\n",
       "\n",
       "    .dataframe tbody tr th {\n",
       "        vertical-align: top;\n",
       "    }\n",
       "\n",
       "    .dataframe thead th {\n",
       "        text-align: right;\n",
       "    }\n",
       "</style>\n",
       "<table border=\"1\" class=\"dataframe\">\n",
       "  <thead>\n",
       "    <tr style=\"text-align: right;\">\n",
       "      <th></th>\n",
       "      <th>mean</th>\n",
       "      <th>count</th>\n",
       "    </tr>\n",
       "    <tr>\n",
       "      <th>total_income_category</th>\n",
       "      <th></th>\n",
       "      <th></th>\n",
       "    </tr>\n",
       "  </thead>\n",
       "  <tbody>\n",
       "    <tr>\n",
       "      <th>A</th>\n",
       "      <td>0.080000</td>\n",
       "      <td>25</td>\n",
       "    </tr>\n",
       "    <tr>\n",
       "      <th>B</th>\n",
       "      <td>0.070602</td>\n",
       "      <td>5014</td>\n",
       "    </tr>\n",
       "    <tr>\n",
       "      <th>C</th>\n",
       "      <td>0.084987</td>\n",
       "      <td>15920</td>\n",
       "    </tr>\n",
       "    <tr>\n",
       "      <th>D</th>\n",
       "      <td>0.060172</td>\n",
       "      <td>349</td>\n",
       "    </tr>\n",
       "    <tr>\n",
       "      <th>E</th>\n",
       "      <td>0.090909</td>\n",
       "      <td>22</td>\n",
       "    </tr>\n",
       "  </tbody>\n",
       "</table>\n",
       "</div>"
      ],
      "text/plain": [
       "                           mean  count\n",
       "total_income_category                 \n",
       "A                      0.080000     25\n",
       "B                      0.070602   5014\n",
       "C                      0.084987  15920\n",
       "D                      0.060172    349\n",
       "E                      0.090909     22"
      ]
     },
     "metadata": {},
     "output_type": "display_data"
    },
    {
     "data": {
      "image/png": "[encoded data removed]",
      "text/plain": [
       "<Figure size 640x480 with 1 Axes>"
      ]
     },
     "metadata": {},
     "output_type": "display_data"
    }
   ],
   "source": [
    "# Группировка по уровню дохода, вывод доли должников и общего числа клиентов в категории\n",
    "display(data.groupby('total_income_category')['debt'].agg(['mean','count']))\n",
    "# Построение графика на основе сгруппированных данных\n",
    "(data.groupby('total_income_category')['debt'].agg('mean')\n",
    "                                              .plot.bar(alpha=0.7,rot=0, xlabel='Уровень дохода', ylabel='Доля должников')\n",
    "                                              .set_title('Доля должников в зависимости \\n от уровня дохода клиета'));\n"
   ]
  },
  {
   "cell_type": "markdown",
   "id": "af9d8701",
   "metadata": {},
   "source": [
    "**Замечание:**\n",
    "\n",
    "Для ответа на этот вопрос мы сгрупировали данные из столбца `debt` (здесь указано является ли человек должником) по уровню дохода заемщика. В стобце `mean` мы видим процент должников. В столбце `count` общее количество людей относящихся к данной категории.\n",
    "\n",
    "Для анализа и наглядности мы построили столбчатый график.\n",
    "Здесь не видно зависимости способности возвращать кредит в срок от уровня дохода человека. Но в сводной таблице мы видим, что большинство записей сосредоточенно в группе С (и в группе B). Возможно мы не правильно разбили данные по категориям. \n",
    "\n",
    "Воспользуемся методом qcut() и постараемся разбить столбец `total_income` на категории с равным количеством записей в каждой."
   ]
  },
  {
   "cell_type": "code",
   "execution_count": 22,
   "id": "09b8b018",
   "metadata": {},
   "outputs": [
    {
     "data": {
      "text/html": [
       "<div>\n",
       "<style scoped>\n",
       "    .dataframe tbody tr th:only-of-type {\n",
       "        vertical-align: middle;\n",
       "    }\n",
       "\n",
       "    .dataframe tbody tr th {\n",
       "        vertical-align: top;\n",
       "    }\n",
       "\n",
       "    .dataframe thead th {\n",
       "        text-align: right;\n",
       "    }\n",
       "</style>\n",
       "<table border=\"1\" class=\"dataframe\">\n",
       "  <thead>\n",
       "    <tr style=\"text-align: right;\">\n",
       "      <th></th>\n",
       "      <th>mean</th>\n",
       "      <th>count</th>\n",
       "    </tr>\n",
       "    <tr>\n",
       "      <th>qcut_total_income</th>\n",
       "      <th></th>\n",
       "      <th></th>\n",
       "    </tr>\n",
       "  </thead>\n",
       "  <tbody>\n",
       "    <tr>\n",
       "      <th>(20000.0, 65000.0]</th>\n",
       "      <td>0.066542</td>\n",
       "      <td>1067</td>\n",
       "    </tr>\n",
       "    <tr>\n",
       "      <th>(65000.0, 79000.0]</th>\n",
       "      <td>0.080675</td>\n",
       "      <td>1066</td>\n",
       "    </tr>\n",
       "    <tr>\n",
       "      <th>(79000.0, 89000.0]</th>\n",
       "      <td>0.084349</td>\n",
       "      <td>1067</td>\n",
       "    </tr>\n",
       "    <tr>\n",
       "      <th>(89000.0, 99000.0]</th>\n",
       "      <td>0.090909</td>\n",
       "      <td>1067</td>\n",
       "    </tr>\n",
       "    <tr>\n",
       "      <th>(99000.0, 108000.0]</th>\n",
       "      <td>0.077861</td>\n",
       "      <td>1066</td>\n",
       "    </tr>\n",
       "    <tr>\n",
       "      <th>(108000.0, 116000.0]</th>\n",
       "      <td>0.089035</td>\n",
       "      <td>1067</td>\n",
       "    </tr>\n",
       "    <tr>\n",
       "      <th>(116000.0, 123000.0]</th>\n",
       "      <td>0.086304</td>\n",
       "      <td>1066</td>\n",
       "    </tr>\n",
       "    <tr>\n",
       "      <th>(123000.0, 132000.0]</th>\n",
       "      <td>0.082552</td>\n",
       "      <td>1066</td>\n",
       "    </tr>\n",
       "    <tr>\n",
       "      <th>(132000.0, 142000.0]</th>\n",
       "      <td>0.089035</td>\n",
       "      <td>1067</td>\n",
       "    </tr>\n",
       "    <tr>\n",
       "      <th>(142000.0, 143000.0]</th>\n",
       "      <td>0.092984</td>\n",
       "      <td>1183</td>\n",
       "    </tr>\n",
       "    <tr>\n",
       "      <th>(143000.0, 150000.0]</th>\n",
       "      <td>0.084299</td>\n",
       "      <td>949</td>\n",
       "    </tr>\n",
       "    <tr>\n",
       "      <th>(150000.0, 161000.0]</th>\n",
       "      <td>0.082474</td>\n",
       "      <td>1067</td>\n",
       "    </tr>\n",
       "    <tr>\n",
       "      <th>(161000.0, 173000.0]</th>\n",
       "      <td>0.096623</td>\n",
       "      <td>1066</td>\n",
       "    </tr>\n",
       "    <tr>\n",
       "      <th>(173000.0, 180000.0]</th>\n",
       "      <td>0.071228</td>\n",
       "      <td>1067</td>\n",
       "    </tr>\n",
       "    <tr>\n",
       "      <th>(180000.0, 196000.0]</th>\n",
       "      <td>0.090909</td>\n",
       "      <td>1067</td>\n",
       "    </tr>\n",
       "    <tr>\n",
       "      <th>(196000.0, 215000.0]</th>\n",
       "      <td>0.076923</td>\n",
       "      <td>1066</td>\n",
       "    </tr>\n",
       "    <tr>\n",
       "      <th>(215000.0, 238000.0]</th>\n",
       "      <td>0.068480</td>\n",
       "      <td>1066</td>\n",
       "    </tr>\n",
       "    <tr>\n",
       "      <th>(238000.0, 270000.0]</th>\n",
       "      <td>0.070291</td>\n",
       "      <td>1067</td>\n",
       "    </tr>\n",
       "    <tr>\n",
       "      <th>(270000.0, 332000.0]</th>\n",
       "      <td>0.071295</td>\n",
       "      <td>1066</td>\n",
       "    </tr>\n",
       "    <tr>\n",
       "      <th>(332000.0, 2266000.0]</th>\n",
       "      <td>0.070291</td>\n",
       "      <td>1067</td>\n",
       "    </tr>\n",
       "  </tbody>\n",
       "</table>\n",
       "</div>"
      ],
      "text/plain": [
       "                           mean  count\n",
       "qcut_total_income                     \n",
       "(20000.0, 65000.0]     0.066542   1067\n",
       "(65000.0, 79000.0]     0.080675   1066\n",
       "(79000.0, 89000.0]     0.084349   1067\n",
       "(89000.0, 99000.0]     0.090909   1067\n",
       "(99000.0, 108000.0]    0.077861   1066\n",
       "(108000.0, 116000.0]   0.089035   1067\n",
       "(116000.0, 123000.0]   0.086304   1066\n",
       "(123000.0, 132000.0]   0.082552   1066\n",
       "(132000.0, 142000.0]   0.089035   1067\n",
       "(142000.0, 143000.0]   0.092984   1183\n",
       "(143000.0, 150000.0]   0.084299    949\n",
       "(150000.0, 161000.0]   0.082474   1067\n",
       "(161000.0, 173000.0]   0.096623   1066\n",
       "(173000.0, 180000.0]   0.071228   1067\n",
       "(180000.0, 196000.0]   0.090909   1067\n",
       "(196000.0, 215000.0]   0.076923   1066\n",
       "(215000.0, 238000.0]   0.068480   1066\n",
       "(238000.0, 270000.0]   0.070291   1067\n",
       "(270000.0, 332000.0]   0.071295   1066\n",
       "(332000.0, 2266000.0]  0.070291   1067"
      ]
     },
     "metadata": {},
     "output_type": "display_data"
    },
    {
     "data": {
      "image/png": "[encoded data removed]",
      "text/plain": [
       "<Figure size 640x480 with 1 Axes>"
      ]
     },
     "metadata": {},
     "output_type": "display_data"
    }
   ],
   "source": [
    "# Разбивка данных столбца \"total_income\" на категории с помощью метода qqut()\n",
    "data['qcut_total_income'] = pd.qcut(data['total_income'], 20, precision=-100)\n",
    "# Группировка по уровню дохода, вывод доли должников и общего числа клиентов в категории\n",
    "display(data.groupby('qcut_total_income')['debt'].agg(['mean', 'count']))\n",
    "# Построение графика на основе сгруппированных данных\n",
    "(data.groupby('qcut_total_income')['debt'].mean()\n",
    "                                          .plot.bar(alpha=0.7,rot=80, xlabel='Уровень дохода', ylabel='Доля должников')\n",
    "                                          .set_title('Доля должников в зависимости \\n от уровня дохода клиета'));"
   ]
  },
  {
   "cell_type": "markdown",
   "id": "dca7a204",
   "metadata": {},
   "source": [
    "**Вывод:**\n",
    "\n",
    "У нас получилось разбить наш столбец `total_income` на 20 примерно равных групп. Но и в этом случае мы не видим связи между доходом человека и его способностью погашать кредит в срок. Возможно на это повлияли изначальные пропуски в данных этого столбца. Но скорее всего это влияние не значительно. \n",
    "\n",
    "**На основании проведенного анализа мы делаем заключение: зависимости между уровнем дохода человека и возвратом кредита в срок нет.**"
   ]
  },
  {
   "cell_type": "markdown",
   "id": "075452a8",
   "metadata": {},
   "source": [
    "### Как разные цели кредита влияют на его возврат в срок?"
   ]
  },
  {
   "cell_type": "code",
   "execution_count": 23,
   "id": "6d6273a9",
   "metadata": {},
   "outputs": [
    {
     "data": {
      "text/html": [
       "<div>\n",
       "<style scoped>\n",
       "    .dataframe tbody tr th:only-of-type {\n",
       "        vertical-align: middle;\n",
       "    }\n",
       "\n",
       "    .dataframe tbody tr th {\n",
       "        vertical-align: top;\n",
       "    }\n",
       "\n",
       "    .dataframe thead th {\n",
       "        text-align: right;\n",
       "    }\n",
       "</style>\n",
       "<table border=\"1\" class=\"dataframe\">\n",
       "  <thead>\n",
       "    <tr style=\"text-align: right;\">\n",
       "      <th></th>\n",
       "      <th>mean</th>\n",
       "      <th>count</th>\n",
       "    </tr>\n",
       "    <tr>\n",
       "      <th>purpose_category</th>\n",
       "      <th></th>\n",
       "      <th></th>\n",
       "    </tr>\n",
       "  </thead>\n",
       "  <tbody>\n",
       "    <tr>\n",
       "      <th>операции с автомобилем</th>\n",
       "      <td>0.093480</td>\n",
       "      <td>4279</td>\n",
       "    </tr>\n",
       "    <tr>\n",
       "      <th>операции с недвижимостью</th>\n",
       "      <td>0.072558</td>\n",
       "      <td>10750</td>\n",
       "    </tr>\n",
       "    <tr>\n",
       "      <th>получение образования</th>\n",
       "      <td>0.092528</td>\n",
       "      <td>3988</td>\n",
       "    </tr>\n",
       "    <tr>\n",
       "      <th>проведение свадьбы</th>\n",
       "      <td>0.079118</td>\n",
       "      <td>2313</td>\n",
       "    </tr>\n",
       "  </tbody>\n",
       "</table>\n",
       "</div>"
      ],
      "text/plain": [
       "                              mean  count\n",
       "purpose_category                         \n",
       "операции с автомобилем    0.093480   4279\n",
       "операции с недвижимостью  0.072558  10750\n",
       "получение образования     0.092528   3988\n",
       "проведение свадьбы        0.079118   2313"
      ]
     },
     "metadata": {},
     "output_type": "display_data"
    },
    {
     "data": {
      "image/png": "[encoded data removed]",
      "text/plain": [
       "<Figure size 640x480 with 1 Axes>"
      ]
     },
     "metadata": {},
     "output_type": "display_data"
    }
   ],
   "source": [
    "# Группировка по целям кредита, вывод доли должников и общего числа клиентов в категории\n",
    "display(data.groupby('purpose_category')['debt'].agg(['mean','count']))\n",
    "# Построение графика на основе сгруппированных данных\n",
    "(data.groupby('purpose_category')['debt'].agg('mean')\n",
    "                                         .plot.bar(alpha=0.7,rot=45, xlabel='Цели кредита', ylabel='Доля должников')\n",
    "                                         .set_title('Доля должников в зависимости \\n от целей кредита клиета'));"
   ]
  },
  {
   "cell_type": "markdown",
   "id": "915a687e",
   "metadata": {},
   "source": [
    "**Вывод:**  Для ответа на этот вопрос мы сгрупировали данные из столбца `debt` (здесь указано является ли человек должником) по целям кредита. В стобце `mean` мы видим процент должников. В столбце `count` общее количество людей относящихся к данной категории.\n",
    "\n",
    "Для анализа и наглядности мы построили столбчатый график. На графике видно, что процент должников заметно ниже в категориях: \"операции с недвижимостью\" и \"проведение свадьбы\". В остальных категориях \"операции с автомобилем\" и \"получение образования\" процент должников выше. \n",
    "\n",
    "**Следовательно цели кредита влияют на его возврат в срок.**"
   ]
  },
  {
   "cell_type": "markdown",
   "id": "f75044cb",
   "metadata": {},
   "source": [
    "## Итоговый вывод"
   ]
  },
  {
   "cell_type": "markdown",
   "id": "6816b9fa",
   "metadata": {},
   "source": [
    "В данном проекте мы исследовали статиститку банка о платежеспособности клиентов.\n",
    "\n",
    "**В первой части проекта мы изучили данные.**\n",
    "\n",
    "**Во второй части проекта мы выполнили предобработку данных:**\n",
    "* обработали аномальные значения (заменили отрицательные значения положительными и удалили строки с аномальными значенияим)\n",
    "* заполнили пропуски в количественных переменных медианными значениями\n",
    "* изменили тип данных там, где это нужно\n",
    "* обработали дубликаты и удалили строки, являющиеся полными дубликатами\n",
    "* разбили данные в столбцах (там, где это поможет анализу) на категории\n",
    "\n",
    "**В третьей части  проекта мы проверили четыре гипотезы и установили:**\n",
    "\n",
    "1. Существует зависимость между количеством детей клиента и его способностью возвращать деньги в срок. \n",
    "2. На погашение кредита в срок оказывает влияние семейное положение человека. \n",
    "3. Мы не нашли зависимости между уровнем дохода клиента и возвратом кредита им в срок. \n",
    "4. Цели взятия кредита влияют на возврат денег в срок. "
   ]
  }
 ],
 "metadata": {
  "kernelspec": {
   "display_name": "Python 3 (ipykernel)",
   "language": "python",
   "name": "python3"
  },
  "language_info": {
   "codemirror_mode": {
    "name": "ipython",
    "version": 3
   },
   "file_extension": ".py",
   "mimetype": "text/x-python",
   "name": "python",
   "nbconvert_exporter": "python",
   "pygments_lexer": "ipython3",
   "version": "3.9.15"
  },
  "toc": {
   "base_numbering": 1,
   "nav_menu": {},
   "number_sections": true,
   "sideBar": true,
   "skip_h1_title": true,
   "title_cell": "Содержание",
   "title_sidebar": "Содержание",
   "toc_cell": false,
   "toc_position": {
    "height": "calc(100% - 180px)",
    "left": "10px",
    "top": "150px",
    "width": "167.08px"
   },
   "toc_section_display": true,
   "toc_window_display": true
  }
 },
 "nbformat": 4,
 "nbformat_minor": 5
}
